{
    "cells": [
        {
            "cell_type": "markdown",
            "metadata": {},
            "source": [
                "# Sentiment Analysis"
            ]
        },
        {
            "cell_type": "code",
            "execution_count": 3,
            "metadata": {},
            "outputs": [
                {
                    "name": "stdout",
                    "output_type": "stream",
                    "text": [
                        "Collecting pandas\n",
                        "  Using cached pandas-1.4.4-cp38-cp38-manylinux_2_17_x86_64.manylinux2014_x86_64.whl (11.7 MB)\n",
                        "Requirement already satisfied: python-dateutil>=2.8.1 in /home/gitpod/.pyenv/versions/3.8.13/lib/python3.8/site-packages (from pandas) (2.8.2)\n",
                        "Collecting numpy>=1.18.5\n",
                        "  Using cached numpy-1.23.2-cp38-cp38-manylinux_2_17_x86_64.manylinux2014_x86_64.whl (17.1 MB)\n",
                        "Collecting pytz>=2020.1\n",
                        "  Using cached pytz-2022.2.1-py2.py3-none-any.whl (500 kB)\n",
                        "Requirement already satisfied: six>=1.5 in /home/gitpod/.pyenv/versions/3.8.13/lib/python3.8/site-packages (from python-dateutil>=2.8.1->pandas) (1.16.0)\n",
                        "Installing collected packages: pytz, numpy, pandas\n",
                        "Successfully installed numpy-1.23.2 pandas-1.4.4 pytz-2022.2.1\n",
                        "\n",
                        "\u001b[1m[\u001b[0m\u001b[34;49mnotice\u001b[0m\u001b[1;39;49m]\u001b[0m\u001b[39;49m A new release of pip available: \u001b[0m\u001b[31;49m22.1.2\u001b[0m\u001b[39;49m -> \u001b[0m\u001b[32;49m22.2.2\u001b[0m\n",
                        "\u001b[1m[\u001b[0m\u001b[34;49mnotice\u001b[0m\u001b[1;39;49m]\u001b[0m\u001b[39;49m To update, run: \u001b[0m\u001b[32;49mpip install --upgrade pip\u001b[0m\n",
                        "Requirement already satisfied: numpy in /home/gitpod/.pyenv/versions/3.8.13/lib/python3.8/site-packages (1.23.2)\n",
                        "\n",
                        "\u001b[1m[\u001b[0m\u001b[34;49mnotice\u001b[0m\u001b[1;39;49m]\u001b[0m\u001b[39;49m A new release of pip available: \u001b[0m\u001b[31;49m22.1.2\u001b[0m\u001b[39;49m -> \u001b[0m\u001b[32;49m22.2.2\u001b[0m\n",
                        "\u001b[1m[\u001b[0m\u001b[34;49mnotice\u001b[0m\u001b[1;39;49m]\u001b[0m\u001b[39;49m To update, run: \u001b[0m\u001b[32;49mpip install --upgrade pip\u001b[0m\n",
                        "Collecting sklearn\n",
                        "  Using cached sklearn-0.0-py2.py3-none-any.whl\n",
                        "Collecting scikit-learn\n",
                        "  Using cached scikit_learn-1.1.2-cp38-cp38-manylinux_2_17_x86_64.manylinux2014_x86_64.whl (31.2 MB)\n",
                        "Collecting scipy>=1.3.2\n",
                        "  Using cached scipy-1.9.1-cp38-cp38-manylinux_2_17_x86_64.manylinux2014_x86_64.whl (43.4 MB)\n",
                        "Requirement already satisfied: numpy>=1.17.3 in /home/gitpod/.pyenv/versions/3.8.13/lib/python3.8/site-packages (from scikit-learn->sklearn) (1.23.2)\n",
                        "Collecting threadpoolctl>=2.0.0\n",
                        "  Using cached threadpoolctl-3.1.0-py3-none-any.whl (14 kB)\n",
                        "Collecting joblib>=1.0.0\n",
                        "  Using cached joblib-1.1.0-py2.py3-none-any.whl (306 kB)\n",
                        "Installing collected packages: threadpoolctl, scipy, joblib, scikit-learn, sklearn\n",
                        "Successfully installed joblib-1.1.0 scikit-learn-1.1.2 scipy-1.9.1 sklearn-0.0 threadpoolctl-3.1.0\n",
                        "\n",
                        "\u001b[1m[\u001b[0m\u001b[34;49mnotice\u001b[0m\u001b[1;39;49m]\u001b[0m\u001b[39;49m A new release of pip available: \u001b[0m\u001b[31;49m22.1.2\u001b[0m\u001b[39;49m -> \u001b[0m\u001b[32;49m22.2.2\u001b[0m\n",
                        "\u001b[1m[\u001b[0m\u001b[34;49mnotice\u001b[0m\u001b[1;39;49m]\u001b[0m\u001b[39;49m To update, run: \u001b[0m\u001b[32;49mpip install --upgrade pip\u001b[0m\n"
                    ]
                }
            ],
            "source": [
                "!pip install pandas\n",
                "!pip install numpy\n",
                "!pip install sklearn"
            ]
        },
        {
            "cell_type": "code",
            "execution_count": 4,
            "metadata": {},
            "outputs": [],
            "source": [
                "import pandas as pd\n",
                "import numpy as np\n",
                "import unicodedata\n",
                "import re\n",
                "from sklearn.model_selection import train_test_split\n",
                "from sklearn.feature_extraction.text import CountVectorizer\n",
                "from sklearn.naive_bayes import MultinomialNB # cuando es texto se usa la multinomial\n",
                "from sklearn.metrics import confusion_matrix\n",
                "from sklearn.metrics import ConfusionMatrixDisplay\n",
                "from sklearn.metrics import classification_report"
            ]
        },
        {
            "cell_type": "code",
            "execution_count": 5,
            "metadata": {},
            "outputs": [],
            "source": [
                "url='https://raw.githubusercontent.com/4GeeksAcademy/naive-bayes-project-tutorial/main/playstore_reviews_dataset.csv'\n",
                "df = pd.read_csv(url)"
            ]
        },
        {
            "cell_type": "code",
            "execution_count": 6,
            "metadata": {},
            "outputs": [
                {
                    "name": "stdout",
                    "output_type": "stream",
                    "text": [
                        "<class 'pandas.core.frame.DataFrame'>\n",
                        "RangeIndex: 891 entries, 0 to 890\n",
                        "Data columns (total 3 columns):\n",
                        " #   Column        Non-Null Count  Dtype \n",
                        "---  ------        --------------  ----- \n",
                        " 0   package_name  891 non-null    object\n",
                        " 1   review        891 non-null    object\n",
                        " 2   polarity      891 non-null    int64 \n",
                        "dtypes: int64(1), object(2)\n",
                        "memory usage: 21.0+ KB\n"
                    ]
                }
            ],
            "source": [
                "df.info()"
            ]
        },
        {
            "cell_type": "markdown",
            "metadata": {},
            "source": [
                "La base de datos cuenta con 891 observaciones y con 3 variables, de las cuales dos están clasificadas como objetos y una como entera."
            ]
        },
        {
            "cell_type": "code",
            "execution_count": 7,
            "metadata": {},
            "outputs": [
                {
                    "data": {
                        "text/html": [
                            "<div>\n",
                            "<style scoped>\n",
                            "    .dataframe tbody tr th:only-of-type {\n",
                            "        vertical-align: middle;\n",
                            "    }\n",
                            "\n",
                            "    .dataframe tbody tr th {\n",
                            "        vertical-align: top;\n",
                            "    }\n",
                            "\n",
                            "    .dataframe thead th {\n",
                            "        text-align: right;\n",
                            "    }\n",
                            "</style>\n",
                            "<table border=\"1\" class=\"dataframe\">\n",
                            "  <thead>\n",
                            "    <tr style=\"text-align: right;\">\n",
                            "      <th></th>\n",
                            "      <th>package_name</th>\n",
                            "      <th>review</th>\n",
                            "      <th>polarity</th>\n",
                            "    </tr>\n",
                            "  </thead>\n",
                            "  <tbody>\n",
                            "    <tr>\n",
                            "      <th>477</th>\n",
                            "      <td>com.Slack</td>\n",
                            "      <td>it sucks! i am always shown offline and unab...</td>\n",
                            "      <td>0</td>\n",
                            "    </tr>\n",
                            "    <tr>\n",
                            "      <th>506</th>\n",
                            "      <td>com.Slack</td>\n",
                            "      <td>brilliant! the best application i've found so...</td>\n",
                            "      <td>1</td>\n",
                            "    </tr>\n",
                            "    <tr>\n",
                            "      <th>229</th>\n",
                            "      <td>com.supercell.clashofclans</td>\n",
                            "      <td>sucks the new update especially the multiplay...</td>\n",
                            "      <td>0</td>\n",
                            "    </tr>\n",
                            "    <tr>\n",
                            "      <th>88</th>\n",
                            "      <td>com.linkedin.android</td>\n",
                            "      <td>better user interface, worse quality the user...</td>\n",
                            "      <td>0</td>\n",
                            "    </tr>\n",
                            "    <tr>\n",
                            "      <th>214</th>\n",
                            "      <td>com.supercell.clashofclans</td>\n",
                            "      <td>once a great game i was a hardcore fan of thi...</td>\n",
                            "      <td>0</td>\n",
                            "    </tr>\n",
                            "    <tr>\n",
                            "      <th>610</th>\n",
                            "      <td>com.evernote</td>\n",
                            "      <td>good but ui ease of use still declining i've ...</td>\n",
                            "      <td>1</td>\n",
                            "    </tr>\n",
                            "    <tr>\n",
                            "      <th>466</th>\n",
                            "      <td>com.whatsapp</td>\n",
                            "      <td>no stickers!!!! why is there no stickers?it i...</td>\n",
                            "      <td>0</td>\n",
                            "    </tr>\n",
                            "    <tr>\n",
                            "      <th>873</th>\n",
                            "      <td>com.rovio.angrybirds</td>\n",
                            "      <td>such an awesome game love it a really fun gam...</td>\n",
                            "      <td>1</td>\n",
                            "    </tr>\n",
                            "    <tr>\n",
                            "      <th>390</th>\n",
                            "      <td>com.google.android.talk</td>\n",
                            "      <td>mic on speaker is not working with oneplusx w...</td>\n",
                            "      <td>0</td>\n",
                            "    </tr>\n",
                            "    <tr>\n",
                            "      <th>485</th>\n",
                            "      <td>com.Slack</td>\n",
                            "      <td>best app i can't believe that it is free! the...</td>\n",
                            "      <td>1</td>\n",
                            "    </tr>\n",
                            "  </tbody>\n",
                            "</table>\n",
                            "</div>"
                        ],
                        "text/plain": [
                            "                   package_name  \\\n",
                            "477                   com.Slack   \n",
                            "506                   com.Slack   \n",
                            "229  com.supercell.clashofclans   \n",
                            "88         com.linkedin.android   \n",
                            "214  com.supercell.clashofclans   \n",
                            "610                com.evernote   \n",
                            "466                com.whatsapp   \n",
                            "873        com.rovio.angrybirds   \n",
                            "390     com.google.android.talk   \n",
                            "485                   com.Slack   \n",
                            "\n",
                            "                                                review  polarity  \n",
                            "477    it sucks! i am always shown offline and unab...         0  \n",
                            "506   brilliant! the best application i've found so...         1  \n",
                            "229   sucks the new update especially the multiplay...         0  \n",
                            "88    better user interface, worse quality the user...         0  \n",
                            "214   once a great game i was a hardcore fan of thi...         0  \n",
                            "610   good but ui ease of use still declining i've ...         1  \n",
                            "466   no stickers!!!! why is there no stickers?it i...         0  \n",
                            "873   such an awesome game love it a really fun gam...         1  \n",
                            "390   mic on speaker is not working with oneplusx w...         0  \n",
                            "485   best app i can't believe that it is free! the...         1  "
                        ]
                    },
                    "execution_count": 7,
                    "metadata": {},
                    "output_type": "execute_result"
                }
            ],
            "source": [
                "df.sample(10)"
            ]
        },
        {
            "cell_type": "markdown",
            "metadata": {},
            "source": [
                "Se observa que las dos primeras variables deberían ser string mientras que la última debería ser categórica, por lo que se procede a hacer las transformaciones."
            ]
        },
        {
            "cell_type": "code",
            "execution_count": 8,
            "metadata": {},
            "outputs": [],
            "source": [
                "df[df.select_dtypes('object').columns]=df[df.select_dtypes('object').columns].astype('string')\n",
                "df['polarity']=df['polarity'].astype('category')"
            ]
        },
        {
            "cell_type": "markdown",
            "metadata": {},
            "source": [
                "A continuación se eliminan algunos caracteres desconocidos que se detectaron en el texto."
            ]
        },
        {
            "cell_type": "code",
            "execution_count": 9,
            "metadata": {},
            "outputs": [],
            "source": [
                "df['review']=df['review'].str.strip() # elimina espacios al comienzo y al final de la oracion\n",
                "df['review']=df['review'].str.lower() # lleva todo a minuscula"
            ]
        },
        {
            "cell_type": "code",
            "execution_count": 10,
            "metadata": {},
            "outputs": [],
            "source": [
                "def normalize_str(text_string):\n",
                "    if text_string is not None:\n",
                "        result=unicodedata.normalize('NFD',text_string).encode('ascii','ignore').decode()\n",
                "    else:\n",
                "        result=None \n",
                "    return result"
            ]
        },
        {
            "cell_type": "code",
            "execution_count": 11,
            "metadata": {},
            "outputs": [],
            "source": [
                "df['review']=df['review'].apply(normalize_str)\n",
                "df['review']=df['review'].str.replace('!','')\n",
                "df['review']=df['review'].str.replace(',','')\n",
                "df['review']=df['review'].str.replace('&','')\n",
                "df['review']=df['review'].str.normalize('NFKC')\n",
                "df['review']=df['review'].str.replace(r'([a-zA-Z])\\1{2,}',r'\\1',regex=True) # elimina caracteres repetidos mas de dos veces\n"
            ]
        },
        {
            "cell_type": "code",
            "execution_count": 12,
            "metadata": {},
            "outputs": [
                {
                    "data": {
                        "text/html": [
                            "<div>\n",
                            "<style scoped>\n",
                            "    .dataframe tbody tr th:only-of-type {\n",
                            "        vertical-align: middle;\n",
                            "    }\n",
                            "\n",
                            "    .dataframe tbody tr th {\n",
                            "        vertical-align: top;\n",
                            "    }\n",
                            "\n",
                            "    .dataframe thead th {\n",
                            "        text-align: right;\n",
                            "    }\n",
                            "</style>\n",
                            "<table border=\"1\" class=\"dataframe\">\n",
                            "  <thead>\n",
                            "    <tr style=\"text-align: right;\">\n",
                            "      <th></th>\n",
                            "      <th>package_name</th>\n",
                            "      <th>review</th>\n",
                            "      <th>polarity</th>\n",
                            "    </tr>\n",
                            "  </thead>\n",
                            "  <tbody>\n",
                            "    <tr>\n",
                            "      <th>179</th>\n",
                            "      <td>com.imangi.templerun2</td>\n",
                            "      <td>temple run -pretty good the game is fun.but i ...</td>\n",
                            "      <td>0</td>\n",
                            "    </tr>\n",
                            "    <tr>\n",
                            "      <th>881</th>\n",
                            "      <td>com.rovio.angrybirds</td>\n",
                            "      <td>game ruined because of ads. i felt like re-dow...</td>\n",
                            "      <td>0</td>\n",
                            "    </tr>\n",
                            "    <tr>\n",
                            "      <th>248</th>\n",
                            "      <td>com.android.chrome</td>\n",
                            "      <td>image search on verizon ellipsis 10 tablet doe...</td>\n",
                            "      <td>0</td>\n",
                            "    </tr>\n",
                            "    <tr>\n",
                            "      <th>508</th>\n",
                            "      <td>com.Slack</td>\n",
                            "      <td>excellent app. clearly a passion project. grea...</td>\n",
                            "      <td>1</td>\n",
                            "    </tr>\n",
                            "    <tr>\n",
                            "      <th>520</th>\n",
                            "      <td>com.dropbox.android</td>\n",
                            "      <td>its not safe it has a link to gallery and file...</td>\n",
                            "      <td>0</td>\n",
                            "    </tr>\n",
                            "    <tr>\n",
                            "      <th>543</th>\n",
                            "      <td>com.dropbox.android</td>\n",
                            "      <td>very useful thank you android for introducing ...</td>\n",
                            "      <td>1</td>\n",
                            "    </tr>\n",
                            "    <tr>\n",
                            "      <th>199</th>\n",
                            "      <td>com.supercell.clashofclans</td>\n",
                            "      <td>fix or i quit don't download this game the new...</td>\n",
                            "      <td>0</td>\n",
                            "    </tr>\n",
                            "    <tr>\n",
                            "      <th>817</th>\n",
                            "      <td>com.hamropatro</td>\n",
                            "      <td>excellent awesome app very useful thanks forum...</td>\n",
                            "      <td>1</td>\n",
                            "    </tr>\n",
                            "    <tr>\n",
                            "      <th>165</th>\n",
                            "      <td>com.imangi.templerun2</td>\n",
                            "      <td>awesome its nice but not compatible with my ha...</td>\n",
                            "      <td>0</td>\n",
                            "    </tr>\n",
                            "    <tr>\n",
                            "      <th>1</th>\n",
                            "      <td>com.facebook.katana</td>\n",
                            "      <td>messenger issues ever since the last update in...</td>\n",
                            "      <td>0</td>\n",
                            "    </tr>\n",
                            "  </tbody>\n",
                            "</table>\n",
                            "</div>"
                        ],
                        "text/plain": [
                            "                   package_name  \\\n",
                            "179       com.imangi.templerun2   \n",
                            "881        com.rovio.angrybirds   \n",
                            "248          com.android.chrome   \n",
                            "508                   com.Slack   \n",
                            "520         com.dropbox.android   \n",
                            "543         com.dropbox.android   \n",
                            "199  com.supercell.clashofclans   \n",
                            "817              com.hamropatro   \n",
                            "165       com.imangi.templerun2   \n",
                            "1           com.facebook.katana   \n",
                            "\n",
                            "                                                review polarity  \n",
                            "179  temple run -pretty good the game is fun.but i ...        0  \n",
                            "881  game ruined because of ads. i felt like re-dow...        0  \n",
                            "248  image search on verizon ellipsis 10 tablet doe...        0  \n",
                            "508  excellent app. clearly a passion project. grea...        1  \n",
                            "520  its not safe it has a link to gallery and file...        0  \n",
                            "543  very useful thank you android for introducing ...        1  \n",
                            "199  fix or i quit don't download this game the new...        0  \n",
                            "817  excellent awesome app very useful thanks forum...        1  \n",
                            "165  awesome its nice but not compatible with my ha...        0  \n",
                            "1    messenger issues ever since the last update in...        0  "
                        ]
                    },
                    "execution_count": 12,
                    "metadata": {},
                    "output_type": "execute_result"
                }
            ],
            "source": [
                "df.sample(10)"
            ]
        },
        {
            "cell_type": "code",
            "execution_count": 13,
            "metadata": {},
            "outputs": [
                {
                    "data": {
                        "text/plain": [
                            "package_name                                    com.hamrokeyboard\n",
                            "review          loved it rzrl app rrlrrl rrsrzrlrrl r rrsrzrlr...\n",
                            "polarity                                                        1\n",
                            "Name: 675, dtype: object"
                        ]
                    },
                    "execution_count": 13,
                    "metadata": {},
                    "output_type": "execute_result"
                }
            ],
            "source": [
                "df.iloc[675,]"
            ]
        },
        {
            "cell_type": "code",
            "execution_count": 14,
            "metadata": {},
            "outputs": [],
            "source": [
                "X=df['review']\n",
                "y=df['polarity']"
            ]
        },
        {
            "cell_type": "code",
            "execution_count": 15,
            "metadata": {},
            "outputs": [],
            "source": [
                "X_train,X_test,y_train,y_test=train_test_split(X,y,random_state=2007,stratify=y)"
            ]
        },
        {
            "cell_type": "code",
            "execution_count": 16,
            "metadata": {},
            "outputs": [],
            "source": [
                "vec=CountVectorizer(stop_words='english')\n",
                "X_train=vec.fit_transform(X_train).toarray()\n",
                "X_test=vec.transform(X_test).toarray()"
            ]
        },
        {
            "cell_type": "code",
            "execution_count": 17,
            "metadata": {},
            "outputs": [
                {
                    "data": {
                        "text/plain": [
                            "(668, 3142)"
                        ]
                    },
                    "execution_count": 17,
                    "metadata": {},
                    "output_type": "execute_result"
                }
            ],
            "source": [
                "X_train.shape"
            ]
        },
        {
            "cell_type": "code",
            "execution_count": 18,
            "metadata": {},
            "outputs": [
                {
                    "name": "stdout",
                    "output_type": "stream",
                    "text": [
                        "R score 0.9580838323353293\n"
                    ]
                }
            ],
            "source": [
                "nb=MultinomialNB()\n",
                "nb.fit(X_train,y_train)\n",
                "print('R score', nb.score(X_train,y_train))"
            ]
        },
        {
            "cell_type": "code",
            "execution_count": 19,
            "metadata": {},
            "outputs": [],
            "source": [
                "y_predict=nb.predict(X_test)"
            ]
        },
        {
            "cell_type": "code",
            "execution_count": 20,
            "metadata": {},
            "outputs": [
                {
                    "name": "stdout",
                    "output_type": "stream",
                    "text": [
                        "              precision    recall  f1-score   support\n",
                        "\n",
                        "           0       0.83      0.90      0.87       146\n",
                        "           1       0.78      0.65      0.71        77\n",
                        "\n",
                        "    accuracy                           0.82       223\n",
                        "   macro avg       0.81      0.78      0.79       223\n",
                        "weighted avg       0.81      0.82      0.81       223\n",
                        "\n"
                    ]
                }
            ],
            "source": [
                "print(classification_report(y_test,y_predict))"
            ]
        },
        {
            "cell_type": "markdown",
            "metadata": {},
            "source": [
                "Se observa que el ajuste en la muestra de prueba es bastante bueno para predecir cualquiera de las categorias, hasta para la minoritaria el recall es mayor al 60%."
            ]
        },
        {
            "cell_type": "code",
            "execution_count": 21,
            "metadata": {},
            "outputs": [],
            "source": [
                "import pickle\n",
                "filename = '/workspace/Naive-Bayes/models/finalized_model.sav'\n",
                "pickle.dump(nb, open(filename, 'wb'))"
            ]
        }
    ],
    "metadata": {
        "kernelspec": {
            "display_name": "Python 3.8.13 64-bit ('3.8.13')",
            "language": "python",
            "name": "python3"
        },
        "language_info": {
            "codemirror_mode": {
                "name": "ipython",
                "version": 3
            },
            "file_extension": ".py",
            "mimetype": "text/x-python",
            "name": "python",
            "nbconvert_exporter": "python",
            "pygments_lexer": "ipython3",
            "version": "3.8.13"
        },
        "orig_nbformat": 4,
        "vscode": {
            "interpreter": {
                "hash": "110cc1dee26208153f2972f08a2ad52b6a56238dc66d48e87fb757ef2996db56"
            }
        }
    },
    "nbformat": 4,
    "nbformat_minor": 2
}
